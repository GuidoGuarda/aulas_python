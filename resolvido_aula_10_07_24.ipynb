{
 "cells": [
  {
   "cell_type": "markdown",
   "metadata": {},
   "source": [
    "## Listas\n",
    "\n",
    "- Declarando uma lista\n",
    "- Manipulação de lista\n",
    "    - Adicionando um novo elemento na lista\n",
    "    - Adicionando elemento em uma posição na lista\n",
    "    - Removendo um elemento da lista\n",
    "    - Mostrando segundo, terceiro e quarto elemento da lista\n",
    "    - Mostrando o ultimo elemento da lista\n",
    "    - Ordenando lista\n",
    "    - Pesquisando dados em uma lista (in, index, count)\n",
    "    - Copiando uma lista"
   ]
  },
  {
   "cell_type": "markdown",
   "metadata": {},
   "source": [
    "#### Desafio 01\n",
    "- Crie um programa que realiza a contagem de 1 até 100, usando apenas números ímpares, ao final do processo exiba em tela quantos números ímpares foram emcontrados nesse intervalo, assim como a soma dos mesmos:"
   ]
  },
  {
   "cell_type": "code",
   "execution_count": 3,
   "metadata": {},
   "outputs": [
    {
     "name": "stdout",
     "output_type": "stream",
     "text": [
      "Foram encontrados 50 números ímpares\n",
      "A soma destes números é: 2500\n"
     ]
    }
   ],
   "source": [
    "# TODO: Resposta do desafio 01\n",
    "conte = 0\n",
    "total = 0\n",
    "\n",
    "for i in range(1, 101):\n",
    "    if i % 2 == 1:\n",
    "        \n",
    "        total += i\n",
    "        conte += 1\n",
    "print(f'Foram encontrados {conte} números ímpares')\n",
    "print(f'A soma destes números é: {total}')\n",
    "\n"
   ]
  },
  {
   "cell_type": "markdown",
   "metadata": {},
   "source": [
    "#### Desafio 02\n",
    "- Crie uma lista de tarefas basica, onde você pode adicionar quantas tarefas você desejar\n",
    "    - Use While\n",
    "    - Use For\n",
    "    - Use if else\n",
    "    - Use os ('cls')"
   ]
  },
  {
   "cell_type": "code",
   "execution_count": 3,
   "metadata": {},
   "outputs": [
    {
     "name": "stdout",
     "output_type": "stream",
     "text": [
      "Ok, vamos lá!\n",
      "\n",
      "============================== lista atualizada ==============================\n",
      "pintar\n",
      "desenhar\n",
      "escrever\n",
      "digitar\n",
      "ler\n",
      "ouvir\n",
      "meditar\n",
      "estudar\n",
      "comer\n",
      "Finalizando.\n"
     ]
    }
   ],
   "source": [
    "# TODO: Resposta do desafio 02\n",
    "lista_tarefas = ['pintar', 'desenhar', 'escrever', 'digitar', 'ler', 'ouvir', 'meditar', 'estudar']\n",
    "\n",
    "while True:\n",
    "    opcao = input('Deseja inserir uma nova tarefa? (s/n): ').lower()\n",
    "    if opcao == 's':\n",
    "        print(\"Ok, vamos lá!\")\n",
    "        nova_tarefa = input('Digite a nova tarefa que será adicionada na lista: ')\n",
    "        lista_tarefas.append(nova_tarefa)  \n",
    "    else:\n",
    "        print('Finalizando.')\n",
    "        break\n",
    "    \n",
    "    print()  \n",
    "    print(30 * '=', 'lista atualizada', 30 * '=')\n",
    "    for tarefa in lista_tarefas:\n",
    "        print(tarefa)\n",
    "    "
   ]
  },
  {
   "cell_type": "markdown",
   "metadata": {},
   "source": [
    "#### Desafio 03\n",
    "- Crie um programa que pede o usuario que o mesmo digite um número qualquer, em seguida retorne se esse número é primo ou não, caso não seja, retorne tambem a quantas vezes esse número é divisível:\n",
    "\n",
    "Número primo é aquele que apenas é divisível por 1 ou por ele mesmo, temos de criar essa condição lógica para poder solucionar esse exercício."
   ]
  },
  {
   "cell_type": "code",
   "execution_count": 7,
   "metadata": {},
   "outputs": [
    {
     "name": "stdout",
     "output_type": "stream",
     "text": [
      "28 não é primo!\n",
      "28 é divisível 6 vezes.\n"
     ]
    }
   ],
   "source": [
    "# TODO: Resposta do desafio 03\n",
    "\n",
    "numero = int(input(\"Digite um número inteiro: \"))\n",
    "divide = 0\n",
    "\n",
    "for i in range(1, numero + 1):\n",
    "    if numero % i == 0:\n",
    "        divide += 1\n",
    "\n",
    "if divide == 2:\n",
    "    print(f'{numero} é primo!')\n",
    "    print(f'{numero} é divisível por 1 ou por {numero}')\n",
    "else:\n",
    "    print(f'{numero} não é primo!')\n",
    "    print(f'{numero} é divisível {divide} vezes.')\n"
   ]
  }
 ],
 "metadata": {
  "kernelspec": {
   "display_name": "venv",
   "language": "python",
   "name": "python3"
  },
  "language_info": {
   "codemirror_mode": {
    "name": "ipython",
    "version": 3
   },
   "file_extension": ".py",
   "mimetype": "text/x-python",
   "name": "python",
   "nbconvert_exporter": "python",
   "pygments_lexer": "ipython3",
   "version": "3.12.4"
  }
 },
 "nbformat": 4,
 "nbformat_minor": 2
}
