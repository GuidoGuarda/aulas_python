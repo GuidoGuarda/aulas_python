{
 "cells": [
  {
   "cell_type": "markdown",
   "metadata": {},
   "source": [
    "## AULA 05 - 04/07/24"
   ]
  },
  {
   "cell_type": "code",
   "execution_count": 1,
   "metadata": {},
   "outputs": [
    {
     "name": "stdout",
     "output_type": "stream",
     "text": [
      "if falso\n",
      "finalizou o código\n"
     ]
    }
   ],
   "source": [
    "#if e else\n",
    "\n",
    "programador = False\n",
    "\n",
    "if programador:\n",
    "    print('if é verdadeiro')\n",
    "\n",
    "else:\n",
    "    print('if falso')\n",
    "\n",
    "print('finalizou o código')\n"
   ]
  },
  {
   "cell_type": "code",
   "execution_count": 3,
   "metadata": {},
   "outputs": [
    {
     "name": "stdout",
     "output_type": "stream",
     "text": [
      "Maior de idade\n"
     ]
    }
   ],
   "source": [
    "jovem = 18\n",
    "\n",
    "if jovem >= 18:\n",
    "    print(\"Maior de idade\")\n",
    "\n",
    "else:\n",
    "    print(\"Menor de idade\")\n"
   ]
  },
  {
   "cell_type": "code",
   "execution_count": 6,
   "metadata": {},
   "outputs": [
    {
     "name": "stdout",
     "output_type": "stream",
     "text": [
      "Está de recuperação\n"
     ]
    }
   ],
   "source": [
    "nota = 6\n",
    "if nota >= 7:\n",
    "    print(\"aluno aprovado\")\n",
    "elif nota >= 5:\n",
    "    print('Está de recuperação')\n",
    "else:\n",
    "    print('reprovado')\n",
    "\n"
   ]
  },
  {
   "cell_type": "markdown",
   "metadata": {},
   "source": [
    "## Desafio 1\n",
    "\n",
    "° Um elevador de carga possui capacidade para 200 kg.\n",
    "    ° Crie um programa que receba do usuário o peso da carga, ou seu peso e verifica se a carga está autorizada a usar o elevador ou náo."
   ]
  },
  {
   "cell_type": "code",
   "execution_count": 20,
   "metadata": {},
   "outputs": [
    {
     "name": "stdout",
     "output_type": "stream",
     "text": [
      "========== CONFIRME A CARGA SUPORTADA PELO ELEVADOR ==========\n",
      "Peso total: 213.0 não suportado\n",
      "==============================================================\n"
     ]
    }
   ],
   "source": [
    "#Receber e tratar os dados\n",
    "print(10*'=',\"CONFIRME A CARGA SUPORTADA PELO ELEVADOR\",10*'=')\n",
    "carga1 = input('Digite a peso de entrada 1: ')\n",
    "carga1 = float(carga1)\n",
    "carga2 = input('Digite a peso de entrada 2: ')\n",
    "carga2 = float(carga2)\n",
    "carga_total = carga1 + carga2\n",
    "\n",
    "#Verificação\n",
    "if carga_total <= 200:\n",
    "    print(f'Peso total: {carga_total} suportável')\n",
    "else:\n",
    "    print(f\"Peso total: {carga_total} não suportado\")\n",
    "print(62*'=')"
   ]
  },
  {
   "cell_type": "markdown",
   "metadata": {},
   "source": [
    "## Desafio 2\n",
    "VERIFIQUE SE É PAR OU ÍMPAR"
   ]
  },
  {
   "cell_type": "code",
   "execution_count": 12,
   "metadata": {},
   "outputs": [
    {
     "name": "stdout",
     "output_type": "stream",
     "text": [
      "---------- VERIFIQUE SE É PAR OU ÍMPAR ----------\n",
      "O número é ímpar\n",
      "-------------------------------------------------\n"
     ]
    }
   ],
   "source": [
    "\n",
    "print(10*'-',\"VERIFIQUE SE É PAR OU ÍMPAR\",10*'-')\n",
    "numero = input('Digite um número: ')\n",
    "numero = int(numero)\n",
    "\n",
    "if numero % 2 == 0:\n",
    "    print('O número é par')\n",
    "else:\n",
    "    print('O número é ímpar')\n",
    "print(49*'-')    "
   ]
  },
  {
   "cell_type": "markdown",
   "metadata": {},
   "source": [
    "##Desafio 3\n",
    "- Crie um sistema para colocar os dados do aluno(nome, idade, cpf), em seguida solicite as notas dos 4 bimestres da disciplina de Python que o aluno teve para verificar a MEDIA.\n",
    "Média para aprovação >= 7\n",
    "Média para recuperação >= 5\n",
    "Média para reprovação < (somente else)\n",
    "- Para retirar o boletim de notas, o aluno precisa ser maior de idade(18) e caso não seja, somente os pais podem retira o boletim.\n",
    "    Imprima as informações do aluno\n",
    "    Imprima as notas do aluno em cada bimestre\n",
    "    imprima a situação do aluno(aprovado, em recuperação, reprovado)\n",
    "    imprima se o boletim será retirado pelos pais ou pelo próprio aluno"
   ]
  },
  {
   "cell_type": "code",
   "execution_count": 4,
   "metadata": {},
   "outputs": [
    {
     "name": "stdout",
     "output_type": "stream",
     "text": [
      "========== BOLETIM ANUAL DE PYTHON ==========\n",
      "\u001b[33m EM RECUPERAÇÂO \u001b[0;0m\n",
      "Dados do Aluno: \n",
      "Guido \n",
      "16 \n",
      "105201201\n",
      "Nota do primeiro bimestre: 8.0\n",
      "Nota do segundo bimestre: 5.0\n",
      "Nota do terceiro bimestre: 5.0\n",
      "Nota do quarto bimestre: 5.0\n",
      "Média Final do Aluno: 5.75\n",
      "Um responsável deverá retirar seu boletim\n"
     ]
    }
   ],
   "source": [
    "print(10*'=',\"BOLETIM ANUAL DE PYTHON\",10*'=')\n",
    "#Receber dados e tratar\n",
    "nome = input('Digite seu nome: ')\n",
    "idade = input('Digite sua idade: ')\n",
    "idade = int(idade)\n",
    "cpf = input('Digite seu CPF: ')\n",
    "\n",
    "bim1 = input('Digite a nota do primeiro bimestre: ')\n",
    "bim1 = float(bim1)\n",
    "bim2 = input(\"Digite a nota do segundo bimestre: \")\n",
    "bim2 = float(bim2)\n",
    "bim3 = input('Digite a nota do terceiro bimestre: ')\n",
    "bim3 = float(bim3)\n",
    "bim4 = input('Digite a nota do quarto bimestre: ')\n",
    "bim4 = float(bim4)\n",
    "\n",
    "media = (bim1 + bim2 + bim3 + bim4)/4\n",
    "media = float(media)\n",
    "#Verificação de aprovação\n",
    "if media >= 7:\n",
    "    print('\\033[32m APROVADO \\033[0;0m')\n",
    "elif media >=5:\n",
    "    print(\"\\033[33m EM RECUPERAÇÂO \\033[0;0m\")\n",
    "else:\n",
    "    print(\"\\033[31m REPROVADO \\033[0;0m\")\n",
    "\n",
    "print(f\"Dados do Aluno: \\n{nome} \\n{idade} \\n{cpf}\")\n",
    "print(f'Nota do primeiro bimestre: {bim1}')\n",
    "print(f'Nota do segundo bimestre: {bim2}')\n",
    "print(f'Nota do terceiro bimestre: {bim3}')\n",
    "print(f'Nota do quarto bimestre: {bim4}')\n",
    "print(f'Média Final do Aluno: {media}')\n",
    "\n",
    "if idade >= 18:\n",
    "    print('Você já pode retirar seu boletim')\n",
    "else:\n",
    "    print(\"Um responsável deverá retirar seu boletim\")\n",
    "\n"
   ]
  }
 ],
 "metadata": {
  "kernelspec": {
   "display_name": ".venv",
   "language": "python",
   "name": "python3"
  },
  "language_info": {
   "codemirror_mode": {
    "name": "ipython",
    "version": 3
   },
   "file_extension": ".py",
   "mimetype": "text/x-python",
   "name": "python",
   "nbconvert_exporter": "python",
   "pygments_lexer": "ipython3",
   "version": "3.12.4"
  }
 },
 "nbformat": 4,
 "nbformat_minor": 2
}
