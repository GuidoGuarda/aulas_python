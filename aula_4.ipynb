{
 "cells": [
  {
   "cell_type": "markdown",
   "metadata": {},
   "source": [
    "## AULA 04 - 03/07/2024\n"
   ]
  },
  {
   "cell_type": "markdown",
   "metadata": {},
   "source": [
    "## Operadores Lógicos 2"
   ]
  },
  {
   "cell_type": "code",
   "execution_count": 3,
   "metadata": {},
   "outputs": [
    {
     "name": "stdout",
     "output_type": "stream",
     "text": [
      "Divisão inteira: 1\n",
      "Divisão Normal: 1.0\n",
      "Resto: 0\n",
      "Exponenciação: 10000000000\n"
     ]
    }
   ],
   "source": [
    "n1 = input('Digite o primeiro número: ')\n",
    "n2 = input('Digite o segundo número: ')\n",
    "\n",
    "# Convertendo as entradas para inteiro\n",
    "\n",
    "n1 = int(n1)\n",
    "n2 = int(n2)\n",
    "\n",
    "divisao_inteira = n1 // n2\n",
    "divisao = n1 / n2\n",
    "resto = n1 % n2\n",
    "expo = n1 ** n2\n",
    "\n",
    "print(f'Divisão inteira: {divisao_inteira}')\n",
    "print(f'Divisão Normal: {divisao}')\n",
    "print(f'Resto: {resto}')\n",
    "print(f'Exponenciação: {expo}')"
   ]
  },
  {
   "cell_type": "markdown",
   "metadata": {},
   "source": [
    "# Atribuições"
   ]
  },
  {
   "cell_type": "markdown",
   "metadata": {},
   "source": [
    "## Atribuição de Subtração"
   ]
  },
  {
   "cell_type": "code",
   "execution_count": 4,
   "metadata": {},
   "outputs": [
    {
     "name": "stdout",
     "output_type": "stream",
     "text": [
      "resultado de atribuição de subtração: 0\n"
     ]
    }
   ],
   "source": [
    "valor = 10\n",
    "valor -= 10\n",
    "print(f'resultado de atribuição de subtração: {valor}')"
   ]
  },
  {
   "cell_type": "markdown",
   "metadata": {},
   "source": [
    "## Atribuição de soma"
   ]
  },
  {
   "cell_type": "code",
   "execution_count": 5,
   "metadata": {},
   "outputs": [
    {
     "name": "stdout",
     "output_type": "stream",
     "text": [
      "resultado de atribuição de soma: 20\n"
     ]
    }
   ],
   "source": [
    "valor = 10\n",
    "valor +=10\n",
    "print(f'resultado de atribuição de soma: {valor}')"
   ]
  },
  {
   "cell_type": "markdown",
   "metadata": {},
   "source": [
    "## Atribuição de Divisão"
   ]
  },
  {
   "cell_type": "code",
   "execution_count": 6,
   "metadata": {},
   "outputs": [
    {
     "name": "stdout",
     "output_type": "stream",
     "text": [
      "resultado de atribuição de divisão: 1.0\n"
     ]
    }
   ],
   "source": [
    "valor = 10\n",
    "valor /= 10\n",
    "print(f'resultado de atribuição de divisão: {valor}')"
   ]
  },
  {
   "cell_type": "markdown",
   "metadata": {},
   "source": [
    "## Atribuição de Multiplicação"
   ]
  },
  {
   "cell_type": "code",
   "execution_count": 11,
   "metadata": {},
   "outputs": [
    {
     "name": "stdout",
     "output_type": "stream",
     "text": [
      "resultado de atribuição de multiplicação: 100\n"
     ]
    }
   ],
   "source": [
    "valor = 10\n",
    "valor *= 10\n",
    "print(f'resultado de atribuição de multiplicação: {valor}')"
   ]
  },
  {
   "cell_type": "markdown",
   "metadata": {},
   "source": [
    "## Atribuição de Divisão Inteira"
   ]
  },
  {
   "cell_type": "code",
   "execution_count": 12,
   "metadata": {},
   "outputs": [
    {
     "name": "stdout",
     "output_type": "stream",
     "text": [
      "resultado de atribuição de divisão inteira: 1\n"
     ]
    }
   ],
   "source": [
    "valor = 10\n",
    "valor //= 10\n",
    "print(f'resultado de atribuição de divisão inteira: {valor}')"
   ]
  },
  {
   "cell_type": "markdown",
   "metadata": {},
   "source": [
    "## Atribuição de Exponenciação\n"
   ]
  },
  {
   "cell_type": "code",
   "execution_count": 13,
   "metadata": {},
   "outputs": [
    {
     "name": "stdout",
     "output_type": "stream",
     "text": [
      "resultado de atribuição de exponenciação: 10000000000\n"
     ]
    }
   ],
   "source": [
    "valor = 10\n",
    "valor **= 10\n",
    "print(f'resultado de atribuição de exponenciação: {valor}')"
   ]
  },
  {
   "cell_type": "markdown",
   "metadata": {},
   "source": [
    "## Atribuição de Resto"
   ]
  },
  {
   "cell_type": "code",
   "execution_count": 14,
   "metadata": {},
   "outputs": [
    {
     "name": "stdout",
     "output_type": "stream",
     "text": [
      "resultado de atribuição de resto: 0\n"
     ]
    }
   ],
   "source": [
    "valor = 10\n",
    "valor %= 10\n",
    "print(f'resultado de atribuição de resto: {valor}')"
   ]
  },
  {
   "cell_type": "markdown",
   "metadata": {},
   "source": [
    "## Atividade\n",
    "\n",
    "- Crie um Programa para o Boletim de notas do aluno. Guarde o nome do aluno, as notas e calcule a média final do aluno.\n",
    "\n",
    "- Diciplinas:\n",
    "\n",
    "    -Matemática\n",
    "    -Português\n",
    "    -Geografia\n",
    "    -História\n",
    "    -Física\n",
    "\n",
    "- Ao obter as notas e a média das notas, imprima o boleti, do aluno informando as notas das matérias e com quanto ela ficou de média.\n"
   ]
  },
  {
   "cell_type": "code",
   "execution_count": 26,
   "metadata": {},
   "outputs": [
    {
     "name": "stdout",
     "output_type": "stream",
     "text": [
      "==================== BOLETIM ESCOLAR ====================\n",
      "Aluno: Guido       \n",
      "Nota de Matemática: 10.0      \n",
      "Nota de Português: 9.5      \n",
      "Nota de Geografia: 8.25      \n",
      "Nota de História: 9.0      \n",
      "Nota de Física: 7.0      \n",
      "A média final do aluno é:  8.75\n",
      "=========================================================\n"
     ]
    }
   ],
   "source": [
    "# Boletim de Notas\n",
    "\n",
    "nome = input('Digite o seu nome: ')\n",
    "mat = input('Digite a sua nota em Matemática: ')\n",
    "mat = float(mat)\n",
    "por = input('Digite sua nota em Português; ')\n",
    "por = float(por)\n",
    "geo = input('Digite sua nota em Geografia: ')\n",
    "geo = float(geo)\n",
    "his = input('Digite sua nota em História: ')\n",
    "his = float(his)\n",
    "fis = input('Digite sua nota em Física: ')\n",
    "fis = float(fis)\n",
    "\n",
    "# Média Final\n",
    "\n",
    "media = (mat + por + geo + his + fis)/5 \n",
    "\n",
    "print (20*\"=\" ,'BOLETIM ESCOLAR', 20*\"=\")\n",
    "print(f'Aluno: {nome} \\\n",
    "      \\nNota de Matemática: {mat}\\\n",
    "      \\nNota de Português: {por}\\\n",
    "      \\nNota de Geografia: {geo}\\\n",
    "      \\nNota de História: {his}\\\n",
    "      \\nNota de Física: {fis}\\\n",
    "      \\nA média final do aluno é: {media: .2f}')\n",
    "print(57*\"=\")"
   ]
  }
 ],
 "metadata": {
  "kernelspec": {
   "display_name": ".venv",
   "language": "python",
   "name": "python3"
  },
  "language_info": {
   "codemirror_mode": {
    "name": "ipython",
    "version": 3
   },
   "file_extension": ".py",
   "mimetype": "text/x-python",
   "name": "python",
   "nbconvert_exporter": "python",
   "pygments_lexer": "ipython3",
   "version": "3.12.4"
  }
 },
 "nbformat": 4,
 "nbformat_minor": 2
}
