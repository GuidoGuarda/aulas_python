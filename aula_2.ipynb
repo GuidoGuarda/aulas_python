{
 "cells": [
  {
   "cell_type": "markdown",
   "metadata": {},
   "source": [
    "## AULA 02 - 01/07/2024"
   ]
  },
  {
   "cell_type": "code",
   "execution_count": 1,
   "metadata": {},
   "outputs": [
    {
     "name": "stdout",
     "output_type": "stream",
     "text": [
      "Olá Mundo\n",
      "Guido\n",
      "25\n",
      "75\n",
      "(1, 75)\n",
      "True\n",
      "Guido <class 'str'>\n",
      "<class 'str'>\n",
      "<class 'int'>\n",
      "<class 'int'>\n",
      "<class 'tuple'>\n",
      "<class 'bool'>\n",
      "valor sem conversao <class 'int'>\n",
      "segundo valor já convertido <class 'str'>\n"
     ]
    }
   ],
   "source": [
    "print(\"Olá Mundo\")\n",
    "\n",
    "\n",
    "'''\n",
    "Comentarios de\n",
    "Bloco\n",
    "\n",
    "'''\n",
    "# comentáro de linha\n",
    "\n",
    "nome = 'Guido' # string\n",
    "idade = 25 # inteiro\n",
    "peso = 75 # float\n",
    "altura = 1,75 # float\n",
    "instrutor = True # boolean\n",
    "\n",
    "print(nome)\n",
    "print(idade)\n",
    "print(peso)\n",
    "print(altura)\n",
    "print(instrutor)\n",
    "\n",
    "print(nome, type(nome))\n",
    "\n",
    "print(type(nome))\n",
    "print(type(idade))\n",
    "print(type(peso))\n",
    "print(type(altura))\n",
    "print(type(instrutor))\n",
    "\n",
    "\n",
    "valor = 15\n",
    "print('valor sem conversao', type(valor))\n",
    "valor = str(valor)\n",
    "print('segundo valor já convertido', type(valor))"
   ]
  },
  {
   "cell_type": "markdown",
   "metadata": {},
   "source": [
    "## Concatenação\n",
    "Concatenação usando o sinal de +, eu não consigo concatenar variáveis do tipo int (inteiro)"
   ]
  },
  {
   "cell_type": "code",
   "execution_count": 3,
   "metadata": {},
   "outputs": [
    {
     "name": "stdout",
     "output_type": "stream",
     "text": [
      "Olá, meu nome é Guido! tenho 25 anos de idade\n",
      "Olá, meu nome é Guido ! tenho  25  anos de idade\n",
      "Olá, meu nome é Guido e tenho 25 anos de idade!\n",
      "Que bom tê-lo aqui, Guido !\n",
      "25 , bem jovem.\n",
      "1.75 , boa altura.\n",
      "75.0 , temos uma rotina de alimentação e exercícios ideal pra você.\n",
      "Que bom tê-lo aqui, Guido !\n",
      "2 , bem jovem ainda.\n",
      "1.75 , uma bela altura.\n",
      "75.0 , temos uma rotina de alimentação e exercícios ideal pra você.\n",
      "Olá, meu nome é ('Guido', <class 'str'>) \n",
      "tenho 2 anos de idade, \n",
      "peso 75.0 e \n",
      "minha altura é 1.75 \n"
     ]
    }
   ],
   "source": [
    "# modo 1\n",
    "print('Olá, meu nome é ' + nome + '! tenho ' + str (idade) + ' anos de idade')\n",
    "# modo 2\n",
    "print('Olá, meu nome é',nome,'! tenho ',(idade), ' anos de idade')\n",
    "# modo 3 \n",
    "print(f'Olá, meu nome é {nome} e tenho {idade} anos de idade!')\n",
    "\n",
    "\n",
    "nome = input('Digite seu nome: ')\n",
    "print('Que bom tê-lo aqui,',nome,'!')\n",
    "idade = int(input('Digite sua idade: '))\n",
    "print(idade,', bem jovem.')\n",
    "altura = float(input('Digite sua altura: '))\n",
    "print(altura,', boa altura.')\n",
    "peso = float(input('Digite seu peso:  '))\n",
    "print(peso,', temos uma rotina de alimentação e exercícios ideal pra você.' )\n",
    "\n",
    "nome = input('Digite seu nome: ')\n",
    "print('Que bom tê-lo aqui,',nome,'!')\n",
    "idade = int(input(f'{nome} me informe sua idade: '))\n",
    "print(idade,', bem jovem ainda.')\n",
    "altura = float(input(f'{nome} agora me diga a sua altura: '))\n",
    "print(altura,', uma bela altura.')\n",
    "peso = float(input(f'{nome} e por último me fale seu peso:  '))\n",
    "print(peso,', temos uma rotina de alimentação e exercícios ideal pra você.' )\n",
    "\n",
    "print(f'Olá, meu nome é {nome, type(nome)} \\ntenho {idade} anos de idade, \\npeso {peso} e \\nminha altura é {altura} ')"
   ]
  }
 ],
 "metadata": {
  "kernelspec": {
   "display_name": ".venv",
   "language": "python",
   "name": "python3"
  },
  "language_info": {
   "codemirror_mode": {
    "name": "ipython",
    "version": 3
   },
   "file_extension": ".py",
   "mimetype": "text/x-python",
   "name": "python",
   "nbconvert_exporter": "python",
   "pygments_lexer": "ipython3",
   "version": "3.12.4"
  }
 },
 "nbformat": 4,
 "nbformat_minor": 2
}
