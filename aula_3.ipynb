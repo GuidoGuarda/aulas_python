{
 "cells": [
  {
   "cell_type": "markdown",
   "metadata": {},
   "source": [
    "## AULA 03 - 02/07/2024"
   ]
  },
  {
   "cell_type": "markdown",
   "metadata": {},
   "source": [
    "## Operadores Lógicos\n"
   ]
  },
  {
   "cell_type": "code",
   "execution_count": 6,
   "metadata": {},
   "outputs": [
    {
     "name": "stdout",
     "output_type": "stream",
     "text": [
      "20\n",
      "1010\n",
      "20\n",
      "O resultado é: 30\n",
      "O resultado de 10+20 é: 30\n",
      "O resultado é: 17\n",
      "O resultado da soma é: 30.      \n",
      "O resultado da subtração é: -10.      \n",
      "O resultado da multiplicacao é: 200.      \n",
      "O resultado da divisao é: 0.5.      \n",
      "Parabéns, você está aprovado!\n",
      "Nome: Guido \n",
      "Idade: 25\n",
      "A soma dos dois números é: 30\n"
     ]
    }
   ],
   "source": [
    "...\n",
    "## Comentário de Bloco \n",
    "\n",
    "#- soma\n",
    "#- subtração\n",
    "#- multiplicação\n",
    "#- divisão\n",
    "\n",
    "...\n",
    "\n",
    "# Soma\n",
    "print(10+10)\n",
    "# concatena\n",
    "print('10'+'10')\n",
    "num1 = 10\n",
    "\n",
    "num2 = 10\n",
    "\n",
    "soma = num1 + num2\n",
    "print(soma)\n",
    "\n",
    "# resolução 1\n",
    "\n",
    "valor1 = int (input('Digite o primeiro valor: '))\n",
    "valor2 = int (input('Digite o segundo valor: '))\n",
    "\n",
    "\n",
    "resultado = valor1 + valor2\n",
    "\n",
    "print(f'O resultado é: {resultado}')\n",
    "\n",
    "# resolução 2\n",
    "\n",
    "valor1 = input('Digite o primeiro valor: ')\n",
    "valor1 = int(valor1)\n",
    "valor2 = input('Digite o segundo valor: ')\n",
    "valor2 = int(valor2)\n",
    "\n",
    "resultado = valor1 + valor2\n",
    "\n",
    "print(f'O resultado de {valor1}+{valor2} é: {resultado}')\n",
    "...\n",
    "# Atividade\n",
    "\n",
    "# Desafio 1\n",
    "# - Declare 2 variáveis, cada uma com um valor definido. Some e mostre o resultado concatenando a um texto.\n",
    "\n",
    "# Desafio 2\n",
    "# - Crie um sistema onde o usuário irá inserir 2 valores, guard-os em variáveis, e em seguida realize as 4 operações matemáticas básicas(*, -, *, /) e mostre o resultado de cada um na tela com um texto indicando qual operação foi realizada\n",
    "\n",
    "# Desafio 3\n",
    "# - Crie um sistema que receba o nome do usuário, a idade, so podendo receber um valor inteiro, em seguida mostre as informações obtidas (nome e idade) e peça ao usuário que digite 2 números para que sejam somados, mostre a soma dos 2 números.\n",
    "\n",
    "# desafio 1\n",
    "...\n",
    "valor1 = 15\n",
    "valor2 = 2\n",
    "soma = valor1 + valor2\n",
    "print(f'O resultado é: {soma}')\n",
    "\n",
    "\n",
    "# desafio 2\n",
    "\n",
    "valor1 = input('Digite o primeiro valor: ')\n",
    "valor1 = int(valor1)\n",
    "valor2 = input('Digite o segundo valor: ')\n",
    "valor2 = int(valor2)\n",
    "\n",
    "soma = valor1 + valor2\n",
    "subtracao = valor1 - valor2\n",
    "multiplicacao = valor1 * valor2\n",
    "divisao = valor1 / valor2\n",
    "print(f'O resultado da soma é: {soma}.\\\n",
    "      \\nO resultado da subtração é: {subtracao}.\\\n",
    "      \\nO resultado da multiplicacao é: {multiplicacao}.\\\n",
    "      \\nO resultado da divisao é: {divisao}.\\\n",
    "      \\nParabéns, você está aprovado!')\n",
    "\n",
    "# Desafio 3\n",
    "\n",
    "nome = input('Digite seu nome: ')\n",
    "idade = int(input('Digite sua idade: '))\n",
    "print(f'Nome: {nome} \\nIdade: {idade}')\n",
    "\n",
    "num1 = int(input('Digite um número: '))\n",
    "num2 = int(input('Digite outro número: '))\n",
    "soma = num1 + num2\n",
    "\n",
    "print(f'A soma dos dois números é: {soma}')"
   ]
  }
 ],
 "metadata": {
  "kernelspec": {
   "display_name": ".venv",
   "language": "python",
   "name": "python3"
  },
  "language_info": {
   "codemirror_mode": {
    "name": "ipython",
    "version": 3
   },
   "file_extension": ".py",
   "mimetype": "text/x-python",
   "name": "python",
   "nbconvert_exporter": "python",
   "pygments_lexer": "ipython3",
   "version": "3.12.4"
  }
 },
 "nbformat": 4,
 "nbformat_minor": 2
}
