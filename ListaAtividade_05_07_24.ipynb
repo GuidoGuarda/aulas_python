{
 "cells": [
  {
   "cell_type": "markdown",
   "metadata": {},
   "source": [
    "## Operador ternário\n",
    "- Usar operador ternário quando as alternativas forem pequenas, e quando tiver apenas 2 ou no máximo 3 alternativas.\n",
    "- No exemplo a variável precisa ser inteira"
   ]
  },
  {
   "cell_type": "code",
   "execution_count": 10,
   "metadata": {},
   "outputs": [
    {
     "name": "stdout",
     "output_type": "stream",
     "text": [
      "karython é maior de idade.\n"
     ]
    }
   ],
   "source": [
    "nome = 'karython'\n",
    "idade = 18\n",
    "\n",
    "print(nome, 'é maior de idade.' if idade >= 18 else 'é menor de idade')"
   ]
  },
  {
   "cell_type": "markdown",
   "metadata": {},
   "source": [
    "## Replace\n",
    "- substituir"
   ]
  },
  {
   "cell_type": "code",
   "execution_count": 5,
   "metadata": {},
   "outputs": [
    {
     "name": "stdout",
     "output_type": "stream",
     "text": [
      "<class 'str'>\n",
      "<class 'float'>\n"
     ]
    }
   ],
   "source": [
    "peso = input(\"Digite seu peso: \").replace(',','.')\n",
    "print(type(peso))\n",
    "peso = float(peso)\n",
    "print(type(peso))\n"
   ]
  },
  {
   "cell_type": "markdown",
   "metadata": {},
   "source": [
    "## Desafio 01\n",
    "- Crie um programa para fazer a verificação de um cliente para saber se ele pode usar o brinquedo ou não.\n",
    "    - Para brincar ele precisa:\n",
    "        - ter mais que 12 anos\n",
    "        - ter altura minima de 1,20 mts"
   ]
  },
  {
   "cell_type": "code",
   "execution_count": 9,
   "metadata": {},
   "outputs": [
    {
     "name": "stdout",
     "output_type": "stream",
     "text": [
      "========== Limitando idade para brinquedo ==========\n",
      "Idade/Altura não condizentes com o briquedo\n"
     ]
    }
   ],
   "source": [
    "# TODO: Resposta desafio 01\n",
    "\n",
    "print(10*'=',\"Limitando idade para brinquedo\",10*'=')\n",
    "#Receber dados e tratá-los\n",
    "idade = input('Digite sua idade: ')\n",
    "idade = int(idade)\n",
    "altura = input('Digite sua altura: ').replace(',','.')\n",
    "altura = float(altura)\n",
    "\n",
    "if idade >= 12 and altura >= 1.20:\n",
    "    print('Entre, você já pode se divertir!')\n",
    "else:\n",
    "    print('Idade/Altura não condizentes com o briquedo')\n"
   ]
  },
  {
   "cell_type": "markdown",
   "metadata": {},
   "source": [
    "## Desafio 02\n",
    "- Crie um programa que verifica se o aluno poderar ir a praia.\n",
    "    - Para ir a praia ele precisa:\n",
    "        - Verifica se acordei de bom humor\n",
    "        - Verifica se o pai ja chegou em casa para leva-lo"
   ]
  },
  {
   "cell_type": "code",
   "execution_count": 12,
   "metadata": {},
   "outputs": [
    {
     "name": "stdout",
     "output_type": "stream",
     "text": [
      "========== Vamos a lá praia? ==========\n",
      "Que pena! Hoje não iremos a la praia!\n"
     ]
    }
   ],
   "source": [
    "# TODO: Resposta desafio 02\n",
    "print(10*'=',\"Vamos a lá praia?\",10*'=')\n",
    "\n",
    "sentimento = input('Acordou de bom humor hoje? Responda sim ou nao')\n",
    "\n",
    "carona = input('Seu pai já chegou para te levar? Responda sim ou nao')\n",
    "\n",
    "\n",
    "if sentimento == 'sim' and carona == 'sim':\n",
    "    print(\"Então vamos a la praia! Oh oh oh\")\n",
    "else:\n",
    "    print('Que pena! Hoje não iremos a la praia!')\n",
    " "
   ]
  },
  {
   "cell_type": "markdown",
   "metadata": {},
   "source": [
    "## Desafio 03\n",
    "- Crie um programa que modifique o cpf digitado\n",
    "    - pegue um cpf qualquer com todos os digitos:\n",
    "        - remova os caracteres\n",
    "        - imprima o cpf sem modificação\n",
    "        - imprima o cpf com modificação"
   ]
  },
  {
   "cell_type": "code",
   "execution_count": 17,
   "metadata": {},
   "outputs": [
    {
     "name": "stdout",
     "output_type": "stream",
     "text": [
      "========== Alterando caracteres ==========\n",
      "CPF sem modificação: 105.501.506.50\n",
      "CPF modificado: 10550150650\n"
     ]
    }
   ],
   "source": [
    "# TODO: Resposta desafio 03\n",
    "\n",
    "print(10*'=',\"Alterando caracteres\",10*'=')\n",
    "\n",
    "cpf = input('Digite seu CPF: ')\n",
    "cpf2 = cpf\n",
    "cpf2 = str(cpf2).replace('.','').replace('-','') \n",
    "print(f\"CPF sem modificação: {cpf}\\nCPF modificado: {cpf2}\")\n",
    "\n",
    "\n"
   ]
  },
  {
   "cell_type": "markdown",
   "metadata": {},
   "source": [
    "## Desafio 04\n",
    "- Crie uma calculadora de IMC\n",
    "    - Imprima as seguintes condições:?\n",
    "        - imc <17: está com anorexia.\n",
    "        - imc <18.5: está abaixo do peso\n",
    "        - imc <25: está no peso ideal.\n",
    "        - imc <30: está acima do peso.\n",
    "        - imc <35: está com grau de obesidade I.\n",
    "        - imc <40: está com grau de obesidade II.\n",
    "        - imc: está com grau de obesidade mórbida."
   ]
  },
  {
   "cell_type": "code",
   "execution_count": 21,
   "metadata": {},
   "outputs": [
    {
     "name": "stdout",
     "output_type": "stream",
     "text": [
      "========== Calculando IMC ==========\n",
      "Está no peso ideal.\n"
     ]
    }
   ],
   "source": [
    "# TODO: Resposta desafio 04\n",
    "\n",
    "print(10*'=',\"Calculando IMC\",10*'=')\n",
    "altura = input('Digite sua altura: ').replace(',','.')\n",
    "altura = float(altura)\n",
    "peso = input('Digite seu peso: ').replace(',','.')\n",
    "peso = float(peso)\n",
    "\n",
    "imc = peso / (altura * altura)\n",
    "\n",
    "if imc < 17:\n",
    "    print('Está com anorexia.')\n",
    "elif imc < 18.5:\n",
    "    print('Está abaixo do peso.')\n",
    "elif imc < 25:\n",
    "    print('Está no peso ideal.')\n",
    "elif imc < 30:\n",
    "    print('Está acima do peso.')\n",
    "elif imc < 35:\n",
    "    print('Está com grau de obesidade I.')\n",
    "elif imc < 40:\n",
    "    print('Está com grau de obesidade II.')\n",
    "else:\n",
    "    print('Está com grau de obesidade mórbida.')\n",
    "\n",
    "\n",
    "\n",
    "\n"
   ]
  },
  {
   "cell_type": "markdown",
   "metadata": {},
   "source": [
    "## Desafio 05\n",
    "- Crie uma calculadora basica.\n",
    "    - Solicite 2 números do usuário e pergunte qual operação matemática ele deseja fazer.\n",
    "        -   +; -; /; *\n",
    "        - imprima o resultado correto para cada operação"
   ]
  },
  {
   "cell_type": "code",
   "execution_count": 26,
   "metadata": {},
   "outputs": [
    {
     "name": "stdout",
     "output_type": "stream",
     "text": [
      "========== Calculadora Básica ==========\n",
      "Está opreção não condiz com as alternativas\n"
     ]
    }
   ],
   "source": [
    "# TODO: Resposta desafio 05\n",
    "print(10*'=',\"Calculadora Básica\",10*'=')\n",
    "\n",
    "num1 = input(\"Digite um número: \")\n",
    "num1 = int(num1)\n",
    "num2 = input('Digite outro número; ')\n",
    "num2 = int(num2)\n",
    "\n",
    "oper = input('Qual operação deseja fazer? \\nExemplo: (+,-,*,/)')\n",
    "\n",
    "if oper == \"+\":\n",
    "    print(f'Resultado: {num1} + {num2} = {num1 + num2}')\n",
    "elif oper == \"-\":\n",
    "    print(f'Resultado: {num1} - {num2} = {num1 - num2}')\n",
    "elif oper == \"*\":\n",
    "    print(f'Resultado: {num1} * {num2} = {num1 * num2}')\n",
    "elif oper == \"/\":\n",
    "    print(f'Resultado: {num1} / {num2} = {num1 / num2}')\n",
    "else:\n",
    "    print('Está opreção não condiz com as alternativas')\n",
    "    \n",
    "\n",
    "\n",
    "\n",
    "\n",
    "\n",
    "\n",
    "\n",
    "\n"
   ]
  }
 ],
 "metadata": {
  "kernelspec": {
   "display_name": "Python 3",
   "language": "python",
   "name": "python3"
  },
  "language_info": {
   "codemirror_mode": {
    "name": "ipython",
    "version": 3
   },
   "file_extension": ".py",
   "mimetype": "text/x-python",
   "name": "python",
   "nbconvert_exporter": "python",
   "pygments_lexer": "ipython3",
   "version": "3.12.4"
  }
 },
 "nbformat": 4,
 "nbformat_minor": 2
}
