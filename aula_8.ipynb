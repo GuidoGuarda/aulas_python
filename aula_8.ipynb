{
 "cells": [
  {
   "cell_type": "markdown",
   "metadata": {},
   "source": [
    "## Aula 8 - 09/07/2024"
   ]
  },
  {
   "cell_type": "code",
   "execution_count": 1,
   "metadata": {},
   "outputs": [
    {
     "name": "stdout",
     "output_type": "stream",
     "text": [
      "0\n",
      "2\n",
      "4\n",
      "6\n",
      "8\n",
      "10\n",
      "12\n",
      "14\n",
      "16\n",
      "18\n",
      "20\n"
     ]
    }
   ],
   "source": [
    "for i in range(0,21):\n",
    "    if i % 2 == 0:\n",
    "        print(i)"
   ]
  },
  {
   "cell_type": "code",
   "execution_count": 4,
   "metadata": {},
   "outputs": [
    {
     "name": "stdout",
     "output_type": "stream",
     "text": [
      "                   *\n",
      "                  ***\n",
      "                 *****\n",
      "                *******\n",
      "               *********\n",
      "              ***********\n",
      "             *************\n",
      "            ***************\n",
      "           *****************\n",
      "          *******************\n",
      "         *********************\n",
      "        ***********************\n",
      "       *************************\n",
      "      ***************************\n",
      "     *****************************\n",
      "    *******************************\n",
      "   *********************************\n",
      "  ***********************************\n",
      " *************************************\n",
      "***************************************\n"
     ]
    }
   ],
   "source": [
    "altura = 20\n",
    "espacamento = 0\n",
    "asterisco = 1\n",
    "simbolo = '*'\n",
    "#Pode-se não usar \"i\" substituindo por \"_\"\n",
    "for i in range(altura):\n",
    "    espacamento = altura - i - 1\n",
    "\n",
    "    for j in range(espacamento):\n",
    "        print(' ', end='')\n",
    "    for k in range(asterisco):\n",
    "        \n",
    "        print(simbolo, end='')  \n",
    "\n",
    "    print()\n",
    "    asterisco +=2"
   ]
  },
  {
   "cell_type": "markdown",
   "metadata": {},
   "source": [
    " ## Índices"
   ]
  },
  {
   "cell_type": "code",
   "execution_count": 6,
   "metadata": {},
   "outputs": [
    {
     "name": "stdout",
     "output_type": "stream",
     "text": [
      "O primeiro nome da lista é gomes\n",
      "O segundo nome da lista é paulo\n",
      "O tereiro nome da lista é ferreira\n",
      "1° nome: gomes\n",
      "2° nome: paulo\n",
      "3° nome: ferreira\n"
     ]
    }
   ],
   "source": [
    "lista = ['gomes', 'paulo','ferreira']\n",
    "\n",
    "print(f'O primeiro nome da lista é {lista[0]}')\n",
    "print(f'O segundo nome da lista é {lista[1]}')\n",
    "print(f'O tereiro nome da lista é {lista[2]}')\n",
    "for i in range(3):\n",
    "    print(f'{i + 1}° nome: {lista[i]}')"
   ]
  },
  {
   "cell_type": "code",
   "execution_count": 8,
   "metadata": {},
   "outputs": [
    {
     "name": "stdout",
     "output_type": "stream",
     "text": [
      "O primeiro nome da lista é gomes\n",
      "O segundo nome da lista é paulo\n",
      "O tereiro nome da lista é ferreira\n",
      "\n",
      "1° nome: gomes\n",
      "2° nome: paulo\n",
      "3° nome: ferreira\n"
     ]
    }
   ],
   "source": [
    "lista = ['gomes', 'paulo','ferreira']\n",
    "\n",
    "print(f'O primeiro nome da lista é {lista[0]}')\n",
    "print(f'O segundo nome da lista é {lista[1]}')\n",
    "print(f'O tereiro nome da lista é {lista[2]}')\n",
    "\n",
    "print()\n",
    "\n",
    "for i in range(len(lista)):\n",
    "    print(f'{i + 1}° nome: {lista[i]}')"
   ]
  },
  {
   "cell_type": "markdown",
   "metadata": {},
   "source": [
    "## Tabuada"
   ]
  },
  {
   "cell_type": "code",
   "execution_count": 9,
   "metadata": {},
   "outputs": [
    {
     "name": "stdout",
     "output_type": "stream",
     "text": [
      "5 X 1 = 5\n",
      "5 X 2 = 10\n",
      "5 X 3 = 15\n",
      "5 X 4 = 20\n",
      "5 X 5 = 25\n",
      "5 X 6 = 30\n",
      "5 X 7 = 35\n",
      "5 X 8 = 40\n",
      "5 X 9 = 45\n",
      "5 X 10 = 50\n"
     ]
    }
   ],
   "source": [
    "x = int(input('Digite um número inteiro: '))\n",
    "\n",
    "for num in range(1, 11):\n",
    "    print(f'{x} X {num} = {x * num}')"
   ]
  }
 ],
 "metadata": {
  "kernelspec": {
   "display_name": ".venv",
   "language": "python",
   "name": "python3"
  },
  "language_info": {
   "codemirror_mode": {
    "name": "ipython",
    "version": 3
   },
   "file_extension": ".py",
   "mimetype": "text/x-python",
   "name": "python",
   "nbconvert_exporter": "python",
   "pygments_lexer": "ipython3",
   "version": "3.12.4"
  }
 },
 "nbformat": 4,
 "nbformat_minor": 2
}
