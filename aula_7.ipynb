{
 "cells": [
  {
   "cell_type": "markdown",
   "metadata": {},
   "source": [
    "##Lastros"
   ]
  },
  {
   "cell_type": "code",
   "execution_count": 2,
   "metadata": {},
   "outputs": [
    {
     "name": "stdout",
     "output_type": "stream",
     "text": [
      "========== Calculando IMC ==========\n",
      "oliveira Está acima do peso.\n",
      "guido Está no peso ideal.\n",
      "fernandes Está com grau de obesidade mórbida.\n"
     ]
    }
   ],
   "source": [
    "print(10*'=',\"Calculando IMC\",10*'=')\n",
    "\n",
    "while True:\n",
    "    #entrada\n",
    "    nome = input('Informe seu nome ou deixe em branco para sair: ')\n",
    "\n",
    "    if nome != '':\n",
    "        altura = input('Digite sua altura: ').replace(',','.')\n",
    "        altura = float(altura)\n",
    "        peso = input('Digite seu peso: ').replace(',','.')\n",
    "        peso = float(peso)\n",
    "\n",
    "        imc = peso / (altura * altura)\n",
    "\n",
    "        if imc < 17:\n",
    "                print(nome, 'Está com anorexia.')\n",
    "        elif imc < 18.5:\n",
    "                print(nome, 'Está abaixo do peso.')\n",
    "        elif imc < 25:\n",
    "                print(nome, 'Está no peso ideal.')\n",
    "        elif imc < 30:\n",
    "                print(nome, 'Está acima do peso.')\n",
    "        elif imc < 35:\n",
    "                print(nome, 'Está com grau de obesidade I.')\n",
    "        elif imc < 40:\n",
    "                print(nome, 'Está com grau de obesidade II.')\n",
    "        else:\n",
    "                print(nome, 'Está com grau de obesidade mórbida.')\n",
    "\n",
    "    else:\n",
    "        break"
   ]
  },
  {
   "cell_type": "markdown",
   "metadata": {},
   "source": []
  },
  {
   "cell_type": "code",
   "execution_count": 2,
   "metadata": {},
   "outputs": [
    {
     "name": "stdout",
     "output_type": "stream",
     "text": [
      "\u001b[32m10...\u001b[0;0m\n",
      "\u001b[32m9...\u001b[0;0m\n",
      "\u001b[32m8...\u001b[0;0m\n",
      "\u001b[32m7...\u001b[0;0m\n",
      "\u001b[33m6...\u001b[0;0m\n",
      "\u001b[33m5...\u001b[0;0m\n",
      "\u001b[33m4...\u001b[0;0m\n",
      "\u001b[31m3...\u001b[0;0m\n",
      "\u001b[31m2...\u001b[0;0m\n",
      "\u001b[31m1...\u001b[0;0m\n",
      "\u001b[31m0...\u001b[0;0m\n",
      "Booooooommmmmmm!!!!!\n"
     ]
    }
   ],
   "source": [
    "import os\n",
    "import time\n",
    "cont = int(input(\"Digite um numero inteiro: \"))\n",
    "\n",
    "while cont >= 0:\n",
    "    os.system('cls')\n",
    "    if cont >= 7:\n",
    "        print(f'\\033[32m{cont}...\\033[0;0m')\n",
    "    elif cont >= 4:\n",
    "        print(f'\\033[33m{cont}...\\033[0;0m')\n",
    "    else:\n",
    "        print(f'\\033[31m{cont}...\\033[0;0m')\n",
    "    time.sleep(1)\n",
    "    cont -=1\n",
    "\n",
    "os.system('cls')\n",
    "print('Booooooommmmmmm!!!!!')\n"
   ]
  },
  {
   "cell_type": "code",
   "execution_count": null,
   "metadata": {},
   "outputs": [],
   "source": []
  },
  {
   "cell_type": "code",
   "execution_count": 18,
   "metadata": {},
   "outputs": [
    {
     "name": "stdout",
     "output_type": "stream",
     "text": [
      "========== Calculadora Básica ==========\n",
      "Desligando.\n",
      "Resultado: 10 - 5 = 5\n"
     ]
    }
   ],
   "source": [
    "print(10*'=',\"Calculadora Básica\",10*'=')\n",
    "\n",
    "while True:\n",
    "    opcao = input(\"Deseja fazer alguma operação básica? (s/m): \").lower()    \n",
    "    \n",
    "    if opcao == 's':\n",
    "        print(\"Ok, vamos lá!\")\n",
    "        ...\n",
    "           \n",
    "    else:\n",
    "        print('Desligando.')\n",
    "    break\n",
    "         \n",
    "    num1 = input(\"Digite um número: \")\n",
    "    num1 = int(num1)\n",
    "\n",
    "    oper = input('Qual operação deseja fazer? \\nExemplo: (+,-,*,/)')\n",
    "\n",
    "    num2 = input('Digite outro número; ')\n",
    "    num2 = int(num2)\n",
    "\n",
    "    \n",
    "\n",
    "    if oper == \"+\":\n",
    "        print(f'Resultado: {num1} + {num2} = {num1 + num2}')\n",
    "    elif oper == \"-\":\n",
    "        print(f'Resultado: {num1} - {num2} = {num1 - num2}')\n",
    "    elif oper == \"*\":\n",
    "        print(f'Resultado: {num1} * {num2} = {num1 * num2}')\n",
    "    elif oper == \"/\":\n",
    "        print(f'Resultado: {num1} / {num2} = {num1 / num2}')\n",
    "    else:\n",
    "        print('Está opreção não condiz com as alternativas')\n",
    "    break"
   ]
  },
  {
   "cell_type": "code",
   "execution_count": 5,
   "metadata": {},
   "outputs": [
    {
     "name": "stdout",
     "output_type": "stream",
     "text": [
      "CINEPYTHON\n",
      "1 - Comédia: Lambanças na Programação, 10\n",
      "2 - Infantil: Brincando no pc, L\n",
      "3 - Ação: Explodindo a mente com códigos, 12\n",
      "4 - Suspense: A volta do Portugol, 14\n",
      "5 - Terror: O fim do github, 18\n",
      "Este filme é inadequado para menores de 18 anos, escolha outra opção.\n",
      "Este filme é inadequado para menores de 18 anos, escolha outra opção.\n",
      "Este filme é inadequado para menores de 18 anos, escolha outra opção.\n",
      "Este filme é inadequado para menores de 18 anos, escolha outra opção.\n"
     ]
    },
    {
     "ename": "",
     "evalue": "",
     "output_type": "error",
     "traceback": [
      "\u001b[1;31mThe Kernel crashed while executing code in the current cell or a previous cell. \n",
      "\u001b[1;31mPlease review the code in the cell(s) to identify a possible cause of the failure. \n",
      "\u001b[1;31mClick <a href='https://aka.ms/vscodeJupyterKernelCrash'>here</a> for more info. \n",
      "\u001b[1;31mView Jupyter <a href='command:jupyter.viewOutput'>log</a> for further details."
     ]
    }
   ],
   "source": [
    "#CINEFLIX\n",
    "print('CINEPYTHON')\n",
    "nome = input('Digite seu nome: ')\n",
    "idade = input(\"Digite a sua idade: \")\n",
    "idade = int(idade)\n",
    "\n",
    "#Definindo salas\n",
    "sala1 = '1 - Comédia: Lambanças na Programação, 10'\n",
    "sala2 = '2 - Infantil: Brincando no pc, L'\n",
    "sala3 = '3 - Ação: Explodindo a mente com códigos, 12'\n",
    "sala4 = '4 - Suspense: A volta do Portugol, 14'\n",
    "sala5 = '5 - Terror: O fim do github, 18'\n",
    "\n",
    "print(f\"{sala1}\\n{sala2}\\n{sala3}\\n{sala4}\\n{sala5}\")\n",
    "\n",
    "while True:    \n",
    "    escolha = input('Escolha o filme que deseja assistir: (1,2,3,4,5)')\n",
    "    escolha = int(escolha)\n",
    "\n",
    "    if escolha == 1:\n",
    "        if idade >= 10:\n",
    "            print('Autorizado, bom filme')\n",
    "            break\n",
    "        else:\n",
    "            print('Este filme é inadequado para menores de 10 anos')\n",
    "          \n",
    "    elif escolha == 2:\n",
    "        if idade >= 0:  \n",
    "            print('Autorizado, bom filme')\n",
    "            break\n",
    "        else:\n",
    "            print('Este filme tem classificação livre, Bom filme.')\n",
    "           \n",
    "    elif escolha == 3: \n",
    "        if idade >= 12:\n",
    "            print('Autorizado, bom filme')\n",
    "            break\n",
    "        else:\n",
    "            print('Este filme é inadequado para menores de 12 anos')\n",
    "       \n",
    "    elif escolha == 4:\n",
    "        if idade >= 14:\n",
    "            print('Autorizado, bom filme')\n",
    "            break\n",
    "        else:\n",
    "            print('Este filme é inadequado para menores de 14 anos')\n",
    "        \n",
    "    elif escolha == 5: \n",
    "        if idade >= 18:\n",
    "            print('Autorizado, bom filme')\n",
    "            break\n",
    "        else:\n",
    "            print('Este filme é inadequado para menores de 18 anos, escolha outra opção.')\n",
    "        \n",
    "    else:\n",
    "            print('Escolha a sala')\n",
    "    "
   ]
  }
 ],
 "metadata": {
  "kernelspec": {
   "display_name": ".venv",
   "language": "python",
   "name": "python3"
  },
  "language_info": {
   "codemirror_mode": {
    "name": "ipython",
    "version": 3
   },
   "file_extension": ".py",
   "mimetype": "text/x-python",
   "name": "python",
   "nbconvert_exporter": "python",
   "pygments_lexer": "ipython3",
   "version": "3.12.4"
  }
 },
 "nbformat": 4,
 "nbformat_minor": 2
}
