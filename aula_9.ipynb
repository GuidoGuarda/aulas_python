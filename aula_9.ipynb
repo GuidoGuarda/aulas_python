{
 "cells": [
  {
   "cell_type": "code",
   "execution_count": 7,
   "metadata": {},
   "outputs": [
    {
     "name": "stdout",
     "output_type": "stream",
     "text": [
      "['gomes', 'oliveira', 'lucas', 'jose', 'pedro', 'maria', 'lucas', 'joao', 'paulo']\n"
     ]
    }
   ],
   "source": [
    "nomes = ['gomes', 'oliveira', 'lucas', 'jose', 'pedro', 'maria', 'lucas', 'joao']\n",
    "\n",
    "#adiciona um novo item no final da lista\n",
    "\n",
    "nomes.append('paulo')\n",
    "print(nomes)"
   ]
  },
  {
   "cell_type": "code",
   "execution_count": 6,
   "metadata": {},
   "outputs": [
    {
     "name": "stdout",
     "output_type": "stream",
     "text": [
      "['gomes', 'oliveira', 'jose', 'pedro', 'maria', 'lucas', 'joao']\n"
     ]
    }
   ],
   "source": [
    "\n",
    "nomes = ['gomes', 'oliveira', 'lucas', 'jose', 'pedro', 'maria', 'lucas', 'joao']\n",
    "\n",
    "#removendo o primeiro item encontrado de acordo com o parametro da lista\n",
    "\n",
    "nomes.remove('lucas')\n",
    "print(nomes)\n"
   ]
  },
  {
   "cell_type": "code",
   "execution_count": 5,
   "metadata": {},
   "outputs": [
    {
     "name": "stdout",
     "output_type": "stream",
     "text": [
      "['gomes', 'oliveira', 'lucas', 'jose', 'pedro', 'lucas', 'joao']\n"
     ]
    }
   ],
   "source": [
    "\n",
    "nomes = ['gomes', 'oliveira', 'lucas', 'jose', 'pedro', 'maria', 'lucas', 'joao']\n",
    "\n",
    "#removendo item da lista com pop\n",
    "#se nao passar nenhum parametro ele remove o último\n",
    "\n",
    "nomes.pop(5)\n",
    "print(nomes)"
   ]
  },
  {
   "cell_type": "code",
   "execution_count": 4,
   "metadata": {},
   "outputs": [
    {
     "name": "stdout",
     "output_type": "stream",
     "text": [
      "['lucas', 'jose', 'pedro', 'maria', 'lucas', 'joao']\n"
     ]
    }
   ],
   "source": [
    "nomes = ['gomes', 'oliveira', 'lucas', 'jose', 'pedro', 'maria', 'lucas', 'joao']\n",
    "\n",
    "#removendo itens de uma lista \n",
    "\n",
    "del nomes [0:2]\n",
    "print(nomes)\n"
   ]
  },
  {
   "cell_type": "code",
   "execution_count": 3,
   "metadata": {},
   "outputs": [
    {
     "name": "stdout",
     "output_type": "stream",
     "text": [
      "['gomes', 'oliveira', 'lucas', 'jose', 'pedro', 'maria', 'lucas', 'joao']\n",
      "['gomes', 'oliveira', 'lucas', 'jose', 'pedro', 'josue', 'maria', 'lucas', 'joao']\n"
     ]
    }
   ],
   "source": [
    "\n",
    "nomes = ['gomes', 'oliveira', 'lucas', 'jose', 'pedro', 'maria', 'lucas', 'joao']\n",
    "\n",
    "#adicionar elemento em uma posição específica\n",
    "\n",
    "print(nomes)\n",
    "nomes.insert(5, 'josue')\n",
    "print(nomes)\n"
   ]
  },
  {
   "cell_type": "code",
   "execution_count": 2,
   "metadata": {},
   "outputs": [
    {
     "name": "stdout",
     "output_type": "stream",
     "text": [
      "['gomes', 'oliveira', 'garoto', 'jose', 'pedro', 'maria', 'lucas', 'joao']\n"
     ]
    }
   ],
   "source": [
    "nomes = ['gomes', 'oliveira', 'lucas', 'jose', 'pedro', 'maria', 'lucas', 'joao']\n",
    "\n",
    "#Substituindo um valor na lista através do seu índice\n",
    "\n",
    "nomes [2] = 'garoto'\n",
    "print(nomes)"
   ]
  },
  {
   "cell_type": "code",
   "execution_count": 9,
   "metadata": {},
   "outputs": [
    {
     "name": "stdout",
     "output_type": "stream",
     "text": [
      "Lista Ordenanda: [10, 9, 8, 7, 6, 5, 4, 3, 2, 1]\n",
      "Lista Ordenada: [1, 2, 3, 4, 5, 6, 7, 8, 9, 10]\n"
     ]
    }
   ],
   "source": [
    "lista1 = [10,9,8,7,6,5,4,3,2,1]\n",
    "\n",
    "#Lista ordenada Crescente\n",
    "print(f'Lista Ordenanda: {lista1}')\n",
    "lista1.sort()\n",
    "print(f'Lista Ordenada: {lista1}')\n",
    "      "
   ]
  },
  {
   "cell_type": "code",
   "execution_count": 10,
   "metadata": {},
   "outputs": [
    {
     "name": "stdout",
     "output_type": "stream",
     "text": [
      "Lista desordenanda; [5, 2, 9, 6, 4, 1, 3, 8, 7, 2, 0]\n",
      "Lista ordenanda Decrescente: [9, 8, 7, 6, 5, 4, 3, 2, 2, 1, 0]\n"
     ]
    }
   ],
   "source": [
    "## Lista Ordenanda Decrescente\n",
    "lista = [5,2,9,6,4,1,3,8,7,2,0]\n",
    "print(f'Lista desordenanda; {lista}')\n",
    "lista.sort(reverse=True)\n",
    "print(f'Lista ordenanda Decrescente: {lista}')\n"
   ]
  },
  {
   "cell_type": "code",
   "execution_count": null,
   "metadata": {},
   "outputs": [],
   "source": [
    "# TODO: Resposta do desafio 01\n",
    "\n",
    "contador = 0\n",
    "soma = 0\n",
    "\n",
    "for i in range(1, 101):\n",
    "    if i % 2 == 1:\n",
    "        \n",
    "        soma += i\n",
    "        contador += 1\n",
    "print(f'Foram encontrados {contador} números ímpares')\n",
    "print(f'A soma destes números é: {soma}')"
   ]
  },
  {
   "cell_type": "code",
   "execution_count": null,
   "metadata": {},
   "outputs": [],
   "source": [
    "# TODO: Resposta do desafio 03\n",
    "numero = int(input(\"Digite um número inteiro: \"))\n",
    "divisoes = 0\n",
    "\n",
    "for i in range(1, numero + 1):\n",
    "    if numero % i == 0:\n",
    "        divisoes += 1\n",
    "\n",
    "if divisoes == 2:\n",
    "    print(f'{numero} é primo!')\n",
    "    print(f'{numero} é divisível por 1 ou por {numero}')\n",
    "else:\n",
    "    print(f'{numero} não é primo!')\n",
    "    print(f'{numero} é divisível {divisoes} vezes...')"
   ]
  }
 ],
 "metadata": {
  "kernelspec": {
   "display_name": ".venv",
   "language": "python",
   "name": "python3"
  },
  "language_info": {
   "codemirror_mode": {
    "name": "ipython",
    "version": 3
   },
   "file_extension": ".py",
   "mimetype": "text/x-python",
   "name": "python",
   "nbconvert_exporter": "python",
   "pygments_lexer": "ipython3",
   "version": "3.12.4"
  }
 },
 "nbformat": 4,
 "nbformat_minor": 2
}
